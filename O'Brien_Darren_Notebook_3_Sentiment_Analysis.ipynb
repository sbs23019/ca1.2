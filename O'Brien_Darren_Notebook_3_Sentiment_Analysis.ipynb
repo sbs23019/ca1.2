{
 "cells": [
  {
   "cell_type": "code",
   "execution_count": 1,
   "id": "070dc86d",
   "metadata": {},
   "outputs": [],
   "source": [
    "#import libraries\n",
    "\n",
    "import pandas as pd\n",
    "import nltk\n",
    "\n",
    "from nltk.sentiment import SentimentIntensityAnalyzer"
   ]
  },
  {
   "cell_type": "code",
   "execution_count": 2,
   "id": "178639a9",
   "metadata": {},
   "outputs": [],
   "source": [
    "# load json files with the text optained from web-scraping\n",
    "\n",
    "headlines_ireland = pd.read_json('headlines_ireland.json')\n",
    "headlines_finland = pd.read_json('headlines_finland.json')"
   ]
  },
  {
   "cell_type": "code",
   "execution_count": 3,
   "id": "a2d57535",
   "metadata": {},
   "outputs": [
    {
     "name": "stdout",
     "output_type": "stream",
     "text": [
      "<class 'pandas.core.frame.DataFrame'>\n",
      "RangeIndex: 76 entries, 0 to 75\n",
      "Data columns (total 1 columns):\n",
      " #   Column     Non-Null Count  Dtype \n",
      "---  ------     --------------  ----- \n",
      " 0   headlines  76 non-null     object\n",
      "dtypes: object(1)\n",
      "memory usage: 736.0+ bytes\n"
     ]
    },
    {
     "data": {
      "text/plain": [
       "(76, 1)"
      ]
     },
     "execution_count": 3,
     "metadata": {},
     "output_type": "execute_result"
    }
   ],
   "source": [
    "headlines_ireland.info()\n",
    "headlines_ireland.shape"
   ]
  },
  {
   "cell_type": "code",
   "execution_count": 4,
   "id": "245df500",
   "metadata": {},
   "outputs": [
    {
     "name": "stdout",
     "output_type": "stream",
     "text": [
      "<class 'pandas.core.frame.DataFrame'>\n",
      "RangeIndex: 69 entries, 0 to 68\n",
      "Data columns (total 1 columns):\n",
      " #   Column     Non-Null Count  Dtype \n",
      "---  ------     --------------  ----- \n",
      " 0   headlines  69 non-null     object\n",
      "dtypes: object(1)\n",
      "memory usage: 680.0+ bytes\n"
     ]
    },
    {
     "data": {
      "text/plain": [
       "(69, 1)"
      ]
     },
     "execution_count": 4,
     "metadata": {},
     "output_type": "execute_result"
    }
   ],
   "source": [
    "headlines_finland.info()\n",
    "headlines_finland.shape"
   ]
  },
  {
   "cell_type": "code",
   "execution_count": 5,
   "id": "a253ca91",
   "metadata": {},
   "outputs": [],
   "source": [
    "# loop through the headline files to analyse the sentiment\n",
    "\n",
    "sia = SentimentIntensityAnalyzer()\n",
    "\n",
    "sentiments = []\n",
    "for headline in headlines_ireland['headlines']:\n",
    "    sentiment_score = sia.polarity_scores(headline)\n",
    "    if sentiment_score['compound'] > 0:\n",
    "        sentiment = 'positive'\n",
    "    elif sentiment_score['compound'] == 0:\n",
    "        sentiment = 'neutral'\n",
    "    else:\n",
    "        sentiment = 'negative'\n",
    "    \n",
    "    sentiments.append(sentiment)\n",
    "    "
   ]
  },
  {
   "cell_type": "code",
   "execution_count": 6,
   "id": "a63bcd2b",
   "metadata": {},
   "outputs": [],
   "source": [
    "headlines_ireland['sentiment'] = sentiments"
   ]
  },
  {
   "cell_type": "code",
   "execution_count": 7,
   "id": "4c85ab6c",
   "metadata": {},
   "outputs": [
    {
     "name": "stdout",
     "output_type": "stream",
     "text": [
      "<class 'pandas.core.frame.DataFrame'>\n",
      "RangeIndex: 76 entries, 0 to 75\n",
      "Data columns (total 2 columns):\n",
      " #   Column     Non-Null Count  Dtype \n",
      "---  ------     --------------  ----- \n",
      " 0   headlines  76 non-null     object\n",
      " 1   sentiment  76 non-null     object\n",
      "dtypes: object(2)\n",
      "memory usage: 1.3+ KB\n"
     ]
    },
    {
     "data": {
      "text/plain": [
       "(76, 2)"
      ]
     },
     "execution_count": 7,
     "metadata": {},
     "output_type": "execute_result"
    }
   ],
   "source": [
    "headlines_ireland.info()\n",
    "headlines_ireland.shape"
   ]
  },
  {
   "cell_type": "code",
   "execution_count": 8,
   "id": "b5c0b605",
   "metadata": {},
   "outputs": [
    {
     "data": {
      "text/plain": [
       "array(['negative', 'neutral', 'positive'], dtype=object)"
      ]
     },
     "execution_count": 8,
     "metadata": {},
     "output_type": "execute_result"
    }
   ],
   "source": [
    "headlines_ireland['sentiment'].unique()"
   ]
  },
  {
   "cell_type": "code",
   "execution_count": 9,
   "id": "b4cc5ab8",
   "metadata": {},
   "outputs": [
    {
     "data": {
      "text/html": [
       "<div>\n",
       "<style scoped>\n",
       "    .dataframe tbody tr th:only-of-type {\n",
       "        vertical-align: middle;\n",
       "    }\n",
       "\n",
       "    .dataframe tbody tr th {\n",
       "        vertical-align: top;\n",
       "    }\n",
       "\n",
       "    .dataframe thead th {\n",
       "        text-align: right;\n",
       "    }\n",
       "</style>\n",
       "<table border=\"1\" class=\"dataframe\">\n",
       "  <thead>\n",
       "    <tr style=\"text-align: right;\">\n",
       "      <th></th>\n",
       "      <th>headlines</th>\n",
       "      <th>sentiment</th>\n",
       "    </tr>\n",
       "  </thead>\n",
       "  <tbody>\n",
       "    <tr>\n",
       "      <th>0</th>\n",
       "      <td>Government should speedily implement RTB recom...</td>\n",
       "      <td>negative</td>\n",
       "    </tr>\n",
       "    <tr>\n",
       "      <th>1</th>\n",
       "      <td>Q&amp;A: Why are we hearing about floatels for asy...</td>\n",
       "      <td>neutral</td>\n",
       "    </tr>\n",
       "    <tr>\n",
       "      <th>2</th>\n",
       "      <td>Bord Pleanála again rejects plan for 442 apart...</td>\n",
       "      <td>negative</td>\n",
       "    </tr>\n",
       "    <tr>\n",
       "      <th>3</th>\n",
       "      <td>Man (61) faces eviction after tenancies board ...</td>\n",
       "      <td>negative</td>\n",
       "    </tr>\n",
       "    <tr>\n",
       "      <th>4</th>\n",
       "      <td>Martin says Government constantly looking at h...</td>\n",
       "      <td>positive</td>\n",
       "    </tr>\n",
       "  </tbody>\n",
       "</table>\n",
       "</div>"
      ],
      "text/plain": [
       "                                           headlines sentiment\n",
       "0  Government should speedily implement RTB recom...  negative\n",
       "1  Q&A: Why are we hearing about floatels for asy...   neutral\n",
       "2  Bord Pleanála again rejects plan for 442 apart...  negative\n",
       "3  Man (61) faces eviction after tenancies board ...  negative\n",
       "4  Martin says Government constantly looking at h...  positive"
      ]
     },
     "execution_count": 9,
     "metadata": {},
     "output_type": "execute_result"
    }
   ],
   "source": [
    "headlines_ireland.head()"
   ]
  },
  {
   "cell_type": "code",
   "execution_count": 10,
   "id": "4732dd37",
   "metadata": {},
   "outputs": [
    {
     "name": "stdout",
     "output_type": "stream",
     "text": [
      "negative    34\n",
      "neutral     29\n",
      "positive    13\n",
      "Name: sentiment, dtype: int64\n"
     ]
    }
   ],
   "source": [
    "#display the sentiment output\n",
    "\n",
    "sentiment_count_ireland = headlines_ireland['sentiment'].value_counts()\n",
    "print(sentiment_count_ireland)"
   ]
  },
  {
   "cell_type": "markdown",
   "id": "06200fa6",
   "metadata": {},
   "source": [
    "## Run the same analysis for the Finnish data"
   ]
  },
  {
   "cell_type": "code",
   "execution_count": 11,
   "id": "0f3a0ff1",
   "metadata": {},
   "outputs": [],
   "source": [
    "# loop through the headline files to analyse the sentiment\n",
    "\n",
    "sentiments = []\n",
    "for headline in headlines_finland['headlines']:\n",
    "    sentiment_score = sia.polarity_scores(headline)\n",
    "    if sentiment_score['compound'] > 0:\n",
    "        sentiment = 'positive'\n",
    "    elif sentiment_score['compound'] == 0:\n",
    "        sentiment = 'neutral'\n",
    "    else:\n",
    "        sentiment = 'negative'\n",
    "    \n",
    "    sentiments.append(sentiment)\n",
    "    "
   ]
  },
  {
   "cell_type": "code",
   "execution_count": 12,
   "id": "c964c2f1",
   "metadata": {},
   "outputs": [],
   "source": [
    "headlines_finland['sentiment'] = sentiments"
   ]
  },
  {
   "cell_type": "code",
   "execution_count": 13,
   "id": "455bf4ce",
   "metadata": {},
   "outputs": [
    {
     "name": "stdout",
     "output_type": "stream",
     "text": [
      "<class 'pandas.core.frame.DataFrame'>\n",
      "RangeIndex: 69 entries, 0 to 68\n",
      "Data columns (total 2 columns):\n",
      " #   Column     Non-Null Count  Dtype \n",
      "---  ------     --------------  ----- \n",
      " 0   headlines  69 non-null     object\n",
      " 1   sentiment  69 non-null     object\n",
      "dtypes: object(2)\n",
      "memory usage: 1.2+ KB\n"
     ]
    },
    {
     "data": {
      "text/plain": [
       "(69, 2)"
      ]
     },
     "execution_count": 13,
     "metadata": {},
     "output_type": "execute_result"
    }
   ],
   "source": [
    "headlines_finland.info()\n",
    "headlines_finland.shape"
   ]
  },
  {
   "cell_type": "code",
   "execution_count": 14,
   "id": "8f95bb8c",
   "metadata": {},
   "outputs": [
    {
     "data": {
      "text/plain": [
       "array(['neutral', 'negative', 'positive'], dtype=object)"
      ]
     },
     "execution_count": 14,
     "metadata": {},
     "output_type": "execute_result"
    }
   ],
   "source": [
    "headlines_finland['sentiment'].unique()"
   ]
  },
  {
   "cell_type": "code",
   "execution_count": 15,
   "id": "4de01d64",
   "metadata": {},
   "outputs": [
    {
     "name": "stdout",
     "output_type": "stream",
     "text": [
      "neutral     41\n",
      "negative    17\n",
      "positive    11\n",
      "Name: sentiment, dtype: int64\n"
     ]
    }
   ],
   "source": [
    "sentiment_count_finland = headlines_finland['sentiment'].value_counts()\n",
    "print(sentiment_count_finland)"
   ]
  },
  {
   "cell_type": "code",
   "execution_count": null,
   "id": "be31b6df",
   "metadata": {},
   "outputs": [],
   "source": []
  }
 ],
 "metadata": {
  "kernelspec": {
   "display_name": "Python 3 (ipykernel)",
   "language": "python",
   "name": "python3"
  },
  "language_info": {
   "codemirror_mode": {
    "name": "ipython",
    "version": 3
   },
   "file_extension": ".py",
   "mimetype": "text/x-python",
   "name": "python",
   "nbconvert_exporter": "python",
   "pygments_lexer": "ipython3",
   "version": "3.9.7"
  }
 },
 "nbformat": 4,
 "nbformat_minor": 5
}
