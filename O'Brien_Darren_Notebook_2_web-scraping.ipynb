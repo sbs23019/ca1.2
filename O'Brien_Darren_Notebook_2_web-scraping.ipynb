{
 "cells": [
  {
   "cell_type": "code",
   "execution_count": 1,
   "id": "cfd96170",
   "metadata": {},
   "outputs": [],
   "source": [
    "#import the required libraries\n",
    "\n",
    "import requests\n",
    "import json\n",
    "from bs4 import BeautifulSoup"
   ]
  },
  {
   "cell_type": "code",
   "execution_count": 29,
   "id": "5950e862",
   "metadata": {},
   "outputs": [],
   "source": [
    "#Create a function to scan for headline froma  given site\n",
    "\n",
    "def get_headlines(country):\n",
    "    url = f\"{country}\"\n",
    "    \n",
    "    response = requests.get(url)\n",
    "    \n",
    "    soup = BeautifulSoup(response.content, 'html.parser')\n",
    "    \n",
    "    headlines = soup.find_all(['h2','h3'])\n",
    "    \n",
    "    news_headlines = [headline.text for headline in headlines]\n",
    "    \n",
    "    return news_headlines"
   ]
  },
  {
   "cell_type": "code",
   "execution_count": 30,
   "id": "ddd2ea6d",
   "metadata": {},
   "outputs": [
    {
     "name": "stdout",
     "output_type": "stream",
     "text": [
      "Government should speedily implement RTB recommendations on illegal evictions, says Eoin Ó Broin\n",
      "Q&A: Why are we hearing about floatels for asylum seekers?\n",
      "Bord Pleanála again rejects plan for 442 apartments and houses in Limerick \n",
      "Man (61) faces eviction after tenancies board rules in his favour over gas charges dispute  \n",
      "Martin says Government constantly looking at housing solutions amid vacant office reports\n",
      "Vacant office blocks set to be repurposed for housing to ease accommodation crisis\n",
      "President of auctioneers body resigns amid claims CEO sought to ‘suppress’ him\n",
      "Call for vacant camp-bed lodgings intended for Ukrainians to be made available for asylum seekers\n",
      "Coalition decision on housing asylum seekers to deepen capacity \n",
      "Warning that anti-migrant protests could escalate amid Coalition tensions over response to crisis \n",
      "Officials warn of ‘growing reluctance’ in councils to accommodate more Ukrainian refugees\n",
      "Applications open for cost-rental homes in Rush from €910 a month\n",
      "Council has contacted Tathony House owners regarding evictions - but received no reply\n",
      "Emergency accommodation for 500 asylum seekers, many living in tents, ‘in coming days’\n",
      "Hotel firms were paid tens of millions of euro to accommodate refugees\n",
      "Dublin City Council already ‘close’ to meeting tenant-in-situ targets for year\n",
      "Hotel firms were paid tens of millions of euro to accommodate refugees\n",
      "More than half of Defence Forces family accommodation is unoccupied\n",
      "Emergency hubs may be needed for elderly if housing crisis persists, charity warns\n",
      "More than 40% of older renters expect to rent for the rest of their lives - report\n",
      "Killarney traders seek fresh thinking on accommodation amid bed shortage \n",
      "Only 1% of vacant site levies collected in 2021\n",
      "How haphazard development made Galway the most choked city in Ireland\n",
      "Nurses caught in housing crisis: ‘Within six months many think about leaving the country again’\n",
      "Ukrainian refugees complained of mice and black mould in their accommodation, records show\n",
      "Building homes in Dublin costs up to 30% more than in Europe due to ‘higher spec’, Government told\n",
      "Spending on housing 32.5% lower than planned for first four months\n",
      "Approved housing bodies grow 10% in a year with record number of homes delivered\n",
      "Luxembourg landlord’s application to turn D8 property into aparthotel rejected \n",
      "Fresh doubt over end-of-year deadline for 700 modular homes for Ukrainian refugees\n",
      "Luxembourg landlord Marc Godart sublet Mountjoy Square property for decade, despite having lease for just two years\n",
      "Refugee family who fled Myanmar for Ireland in 2007 could face eviction\n",
      "Number of homeless in State reaches 11,988, latest figures show\n",
      "An Bord Pleanála hoping to clear backlog of 27,000 homes awaiting judgment ‘by year end’\n",
      "Why do interest rates keep rising no matter what problems it causes for households?\n",
      "Record number of home completions for first quarter of the year, says Minister for Housing\n",
      "Housing completions up 19% as momentum carries forward from 2022\n",
      "Removal of residential construction levy is a ‘gift’ to developers, committee hears \n",
      "Cliff Taylor: Will the new housing plan work and will it lower prices?\n",
      "Housing crisis: development levies suspended in bid to drive down building costs \n",
      "Niall Collins should have absented himself from council meeting over land sale, Taoiseach says\n",
      "Q&A: Will housing plan to remove development levies benefit homebuyers?\n",
      "Development levies to be waived to speed up house building\n",
      "Peter McVerry Trust appoints Francis Doherty as chief executive\n",
      "Sinn Féin claims minister to blame for threat to planning permission for thousands of homes \n",
      "Airbnb-style Dublin let still operating despite conviction \n",
      "Labour seeks ‘more clarity’ from Government over eviction notice figures\n",
      "Extra measures to speed up home building to be considered by Cabinet\n",
      "Landlord ordered to pay tenants a year’s rent in compensation after ‘egregious’ harassment\n",
      "‘Very strong’ new rules at An Bord Pleanála to avoid conflicts of interest \n",
      "Proposals for subsidies totalling up to €600m to encourage apartment building\n",
      "Is it inherently wrong to be a landlord?\n",
      "Landlord must pay €13,000 over threat to evict pregnant tenant\n",
      "Axing of St Michael’s Inchicore regeneration design contract will cause lengthy delays, councillors say\n",
      "Family facing eviction next month tells of ‘nightmare’ trying to find new home\n",
      "‘I am terrified’: Elderly Dublin residents appeal for security gates after three murders in block\n",
      "Government ‘dragging its heels’ on apartment defect redress details, campaigners say\n",
      "Council ‘guts’ tenant’s home while he is in hospital\n",
      "Concerns over St Michael’s Estate regeneration in Inchicore\n",
      "Three-quarters of eviction notices for renovations ‘invalid’, Threshold says\n",
      "Video of landlord allegedly threatening tenant with electric saw prompts garda inquiries\n",
      "Sinn Féin leader accuses Taoiseach of being in a ‘state of denial’ regarding the housing crisis\n",
      "Delivery of housing ‘will only strengthen’ from 2023 onward, officials claim\n",
      "Luxembourg landlord fights eviction from Dublin house he rents\n",
      "Residents could return to Dublin’s Henry Street, originally designed as a place to live\n",
      "Drone footage captures what remains of Ukrainian city of Bakhmut\n",
      "Safe deposit boxes which have lain undisturbed since 1700s may be opened by State\n",
      "Price of Clare Island Lighthouse dives by nearly 40% as buyer fails to appear on the horizon\n",
      "Cost of health insurance policies set to rise by hundreds of euro\n",
      "Another hip joint – but with a young talented chef serving very smart food\n",
      "Crosswords & Puzzles\n",
      "Belfast Agreement\n",
      "Recruit Ireland\n",
      "Stardust \n",
      "North & South\n",
      "Family Notices\n"
     ]
    }
   ],
   "source": [
    "\n",
    "# use the function to scan for headlines in Ireland\n",
    "\n",
    "country = \"https://www.irishtimes.com/ireland/housing-planning\"\n",
    "headlines = get_headlines(country)\n",
    "\n",
    "data = { 'headlines': headlines}\n",
    "\n",
    "for headline in headlines:\n",
    "    print(headline)"
   ]
  },
  {
   "cell_type": "code",
   "execution_count": 31,
   "id": "843b7c70",
   "metadata": {},
   "outputs": [
    {
     "name": "stdout",
     "output_type": "stream",
     "text": [
      "Headlines saved to headlines_ireland.json.\n"
     ]
    }
   ],
   "source": [
    "# export the file in json format for sentiment analysis\n",
    "\n",
    "sentiment_file = 'headlines_ireland.json'\n",
    "with open(sentiment_file, 'w') as file:\n",
    "    json.dump(data, file, indent=4)\n",
    "    \n",
    "print(f\"Headlines saved to {sentiment_file}.\")"
   ]
  },
  {
   "cell_type": "code",
   "execution_count": 32,
   "id": "dc9d8c70",
   "metadata": {},
   "outputs": [
    {
     "name": "stdout",
     "output_type": "stream",
     "text": [
      "News\n",
      "Housing\n",
      "Finland's largest landlord firm plans 10% rent hikes\n",
      "Housing prices decline again in February\n",
      "Poll suggests housing maintenance fees set to rise\n",
      "Renting homes increasingly common in Finland\n",
      "Here are the cheapest apartments in Helsinki\n",
      "Friday's papers: Russian rethinking, Zelensky to address Finnish Parliament, floating gas terminal\n",
      "Nordea: Higher housing costs hitting homeowners hardest\n",
      "Covid pushed house buyers to the suburbs - but city housing costs remain high\n",
      "New-build urban apartments getting smaller despite tenant wishes for more space\n",
      "Bank of Finland: New mortgages amount to €2.2bn in June\n",
      "Helsinki announces plans for rainbow housing as Pride Week begins\n",
      "KHO: Even short-term rentals affect tax-free home sales\n",
      "Record number of rental flats available in Helsinki\n",
      "More one-person households buying homes\n",
      "Lahti's real estate struggle continues\n",
      "Study: Renting more expensive than owning in Finland\n",
      "Push to design for a work-from-home era\n",
      "Monday's papers: Child poverty, empty apartments and a cold wind blows in\n",
      "Finland observes partially virtual Night of the Homeless\n",
      "Youth homelessness increasing in Helsinki, group says\n",
      "Sales of older flats fell by more than one third in April\n",
      "Deceased man found following Espoo apartment explosion had money problems\n",
      "Friday’s papers: Tinder police, Tripla parking and Helsinki housing\n",
      "Night of the Homeless highlights women\n",
      "Turku residential building bans Airbnb rentals\n",
      "Older house prices dip by 2.4% in Helsinki region, still nearly twice national average\n",
      "Tampere to host 2020 football world cup for the homeless\n",
      "Tenants have reimbursement rights when flats get too hot\n",
      "Prices for older flats dip in all major Finnish cities except Vantaa\n",
      "NGOs: Youth homelessness on the rise in Helsinki\n",
      "Friday’s papers: Gov PR junkets under fire, drugged driving and millions paid to home-owners claiming housing benefit\n",
      "Watch: Finland's tiny house movement checked by regulations, attitudes\n",
      "Report: Finland's environment suffering from human activity\n",
      "Suspected Molotov cocktail used in Helsinki apartment blaze, police say\n",
      "Finland transforming housing trade system to digital age\n",
      "Finland marks the Night of the Homeless on Wednesday\n",
      "Wednesday’s papers: Transparent pay, youth homelessness, and the cost of flying\n",
      "Money down the drain: The hidden costs of plumbing renovations in Finland\n",
      "Home rentals becoming more popular in Finland\n",
      "Costly city homes, crumbling country houses – Finland's top 5 housing problems\n",
      "Most read\n",
      "Finland's average electricity price slips into negative territory\n",
      "European Commission says Finland's debt is exceptional, proposes 4 ways to cut it\n",
      "Finnish court issues 10.5 year sentence for more than a hundred sex crimes\n",
      "Finland should ban domestic flights less than 400 km, expert says\n",
      "Volunteers set up drug use tent in Helsinki, police quickly order it to be taken down\n",
      "Latest\n",
      "Finnish institute picks 'Käärijä-green' as word of the month\n",
      "Government negotiators agree to 500 more police officer posts, Yle sources say\n",
      "APN Podcast: Dreaming of Finnish countryside life? Then swipe right\n",
      "Finland should ban domestic flights less than 400 km, expert says\n",
      "Finnish court issues 10.5 year sentence for more than a hundred sex crimes\n",
      "Volunteers set up drug use tent in Helsinki, police quickly order it to be taken down\n",
      "Thursday's papers: Russian immigrants, munitions boom, digital diplomas\n",
      "Stars of Kaurismäki's Fallen Leaves: \"No pressure\" over possible Cannes awards\n",
      "European Commission says Finland's debt is exceptional, proposes 4 ways to cut it\n",
      "Finland's average electricity price slips into negative territory\n",
      "Purra and Orpo: Make-or-break days for cabinet negotiations\n",
      "Helsinki zoo opens wildlife emergency help line\n",
      "Finland joins Nato's Brunssum HQ in the Netherlands\n",
      "€2.3b Danish investment in Finnish wind energy\n",
      "Wednesday's papers: Finns Party pressure, gifts for teachers, cold snap coming\n",
      "Government formation negotiators probe use of food vouchers, cuts to refugee quota as Finland looks to save money on immigration\n",
      "Poll: Illegal streaming on the rise in Nordic countries\n",
      "Preliminary probe finds evidence dozens of Navy conscripts treated inappropria­tely\n",
      "Orpo: Climate, immigration now central focus of government negotiations\n",
      "Study: Problematic social media use threatens children's sleep\n"
     ]
    }
   ],
   "source": [
    "# use the function to scan for headlines in Ireland\n",
    "\n",
    "country = \"https://yle.fi/news/18-216121\"\n",
    "headlines = get_headlines(country)\n",
    "\n",
    "data = { 'headlines': headlines}\n",
    "\n",
    "for headline in headlines:\n",
    "    print(headline)"
   ]
  },
  {
   "cell_type": "code",
   "execution_count": 33,
   "id": "a1125b74",
   "metadata": {},
   "outputs": [
    {
     "name": "stdout",
     "output_type": "stream",
     "text": [
      "Headlines saved to headlines_finland.json.\n"
     ]
    }
   ],
   "source": [
    "# export the file in json format for sentiment analysis\n",
    "\n",
    "sentiment_file = 'headlines_finland.json'\n",
    "with open(sentiment_file, 'w') as file:\n",
    "    json.dump(data, file, indent=4)\n",
    "    \n",
    "print(f\"Headlines saved to {sentiment_file}.\")"
   ]
  },
  {
   "cell_type": "code",
   "execution_count": null,
   "id": "e0090fdf",
   "metadata": {},
   "outputs": [],
   "source": []
  }
 ],
 "metadata": {
  "kernelspec": {
   "display_name": "Python 3 (ipykernel)",
   "language": "python",
   "name": "python3"
  },
  "language_info": {
   "codemirror_mode": {
    "name": "ipython",
    "version": 3
   },
   "file_extension": ".py",
   "mimetype": "text/x-python",
   "name": "python",
   "nbconvert_exporter": "python",
   "pygments_lexer": "ipython3",
   "version": "3.9.7"
  }
 },
 "nbformat": 4,
 "nbformat_minor": 5
}
